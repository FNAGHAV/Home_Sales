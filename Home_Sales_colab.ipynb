{
  "cells": [
    {
      "cell_type": "markdown",
      "metadata": {
        "id": "view-in-github",
        "colab_type": "text"
      },
      "source": [
        "<a href=\"https://colab.research.google.com/github/FNAGHAV/Home_Sales/blob/main/Home_Sales_colab.ipynb\" target=\"_parent\"><img src=\"https://colab.research.google.com/assets/colab-badge.svg\" alt=\"Open In Colab\"/></a>"
      ]
    },
    {
      "cell_type": "code",
      "execution_count": 1,
      "metadata": {
        "colab": {
          "base_uri": "https://localhost:8080/"
        },
        "id": "a_KW73O2e3dw",
        "outputId": "be049b2a-94ce-4914-86f8-5d2c00bd910e"
      },
      "outputs": [
        {
          "output_type": "stream",
          "name": "stdout",
          "text": [
            "\r0% [Working]\r            \rHit:1 http://security.ubuntu.com/ubuntu jammy-security InRelease\n",
            "\r0% [Waiting for headers] [Waiting for headers] [Connected to ppa.launchpadcontent.net (185.125.190.8\r                                                                                                    \rHit:2 https://cloud.r-project.org/bin/linux/ubuntu jammy-cran40/ InRelease\n",
            "\r0% [Waiting for headers] [Connected to ppa.launchpadcontent.net (185.125.190.80)] [Waiting for heade\r                                                                                                    \rHit:3 https://developer.download.nvidia.com/compute/cuda/repos/ubuntu2204/x86_64  InRelease\n",
            "Hit:4 http://archive.ubuntu.com/ubuntu jammy InRelease\n",
            "Hit:5 http://archive.ubuntu.com/ubuntu jammy-updates InRelease\n",
            "Hit:6 http://archive.ubuntu.com/ubuntu jammy-backports InRelease\n",
            "Hit:7 https://ppa.launchpadcontent.net/c2d4u.team/c2d4u4.0+/ubuntu jammy InRelease\n",
            "Hit:8 https://ppa.launchpadcontent.net/deadsnakes/ppa/ubuntu jammy InRelease\n",
            "Hit:9 https://ppa.launchpadcontent.net/graphics-drivers/ppa/ubuntu jammy InRelease\n",
            "Hit:10 https://ppa.launchpadcontent.net/ubuntugis/ppa/ubuntu jammy InRelease\n",
            "Reading package lists... Done\n"
          ]
        }
      ],
      "source": [
        "# The os module in Python provides a way of using operating system-dependent functionality like reading or writing to the file system.\n",
        "import os\n",
        "# Find the latest version of spark 3.x  from http://www.apache.org/dist/spark/ and enter as the spark version\n",
        "# For example:\n",
        "# spark_version = 'spark-3.4.0'\n",
        "# Set the Spark version\n",
        "spark_version = 'spark-3.5.1'\n",
        "os.environ['SPARK_VERSION']=spark_version\n",
        "\n",
        "# Install Spark and Java\n",
        "#In Google Colab, the installation of Java and Spark needs to be performed each time you start a new session. This is because Google Colab provides a temporary environment, and when you close your Colab notebook or your session times out, the environment is reset.\n",
        "!apt-get update\n",
        "!apt-get install openjdk-11-jdk-headless -qq > /dev/null\n",
        "!wget -q http://www.apache.org/dist/spark/$SPARK_VERSION/$SPARK_VERSION-bin-hadoop3.tgz\n",
        "!tar xf $SPARK_VERSION-bin-hadoop3.tgz\n",
        "!pip install -q findspark\n",
        "\n",
        "# Set environment variables for Java and Spark\n",
        "os.environ[\"JAVA_HOME\"] = \"/usr/lib/jvm/java-11-openjdk-amd64\"\n",
        "os.environ[\"SPARK_HOME\"] = f\"/content/{spark_version}-bin-hadoop3\"\n",
        "\n",
        "# Start a SparkSession\n",
        "import findspark\n",
        "findspark.init()"
      ]
    },
    {
      "cell_type": "code",
      "execution_count": 2,
      "metadata": {
        "id": "2XbWNf1Te5fM"
      },
      "outputs": [],
      "source": [
        "# Import packages\n",
        "from pyspark.sql import SparkSession\n",
        "import time\n",
        "\n",
        "# Create a SparkSession\n",
        "spark = SparkSession.builder.appName(\"SparkSQL\").getOrCreate()"
      ]
    },
    {
      "cell_type": "code",
      "execution_count": 3,
      "metadata": {
        "id": "wOJqxG_RPSwp"
      },
      "outputs": [],
      "source": [
        "\n",
        "# 1. Read in the AWS S3 bucket into a DataFrame.\n",
        "from pyspark import SparkFiles\n",
        "url = \"https://2u-data-curriculum-team.s3.amazonaws.com/dataviz-classroom/v1.2/22-big-data/home_sales_revised.csv\"\n"
      ]
    },
    {
      "cell_type": "code",
      "execution_count": 4,
      "metadata": {
        "id": "RoljcJ7WPpnm",
        "colab": {
          "base_uri": "https://localhost:8080/"
        },
        "outputId": "2ec337a3-fa42-44b6-e83a-0b7b69776052"
      },
      "outputs": [
        {
          "output_type": "stream",
          "name": "stdout",
          "text": [
            "+--------------------+----------+----------+------+--------+---------+-----------+--------+------+----------+----+\n",
            "|                  id|      date|date_built| price|bedrooms|bathrooms|sqft_living|sqft_lot|floors|waterfront|view|\n",
            "+--------------------+----------+----------+------+--------+---------+-----------+--------+------+----------+----+\n",
            "|f8a53099-ba1c-47d...|2022-04-08|      2016|936923|       4|        3|       3167|   11733|     2|         1|  76|\n",
            "|7530a2d8-1ae3-451...|2021-06-13|      2013|379628|       2|        2|       2235|   14384|     1|         0|  23|\n",
            "|43de979c-0bf0-4c9...|2019-04-12|      2014|417866|       2|        2|       2127|   10575|     2|         0|   0|\n",
            "|b672c137-b88c-48b...|2019-10-16|      2016|239895|       2|        2|       1631|   11149|     2|         0|   0|\n",
            "|e0726d4d-d595-407...|2022-01-08|      2017|424418|       3|        2|       2249|   13878|     2|         0|   4|\n",
            "|5aa00529-0533-46b...|2019-01-30|      2017|218712|       2|        3|       1965|   14375|     2|         0|   7|\n",
            "|131492a1-72e2-4a8...|2020-02-08|      2017|419199|       2|        3|       2062|    8876|     2|         0|   6|\n",
            "|8d54a71b-c520-44e...|2019-07-21|      2010|323956|       2|        3|       1506|   11816|     1|         0|  25|\n",
            "|e81aacfe-17fe-46b...|2020-06-16|      2016|181925|       3|        3|       2137|   11709|     2|         0|  22|\n",
            "|2ed8d509-7372-46d...|2021-08-06|      2015|258710|       3|        3|       1918|    9666|     1|         0|  25|\n",
            "|f876d86f-3c9f-42b...|2019-02-27|      2011|167864|       3|        3|       2471|   13924|     2|         0|  15|\n",
            "|0a2bd445-8508-4d8...|2021-12-30|      2014|337527|       2|        3|       1926|   12556|     1|         0|  23|\n",
            "|941bad30-eb49-4a7...|2020-05-09|      2015|229896|       3|        3|       2197|    8641|     1|         0|   3|\n",
            "|dd61eb34-6589-4c0...|2021-07-25|      2016|210247|       3|        2|       1672|   11986|     2|         0|  28|\n",
            "|f1e4cef7-d151-439...|2019-02-01|      2011|398667|       2|        3|       2331|   11356|     1|         0|   7|\n",
            "|ea620c7b-c2f7-4c6...|2021-05-31|      2011|437958|       3|        3|       2356|   11052|     1|         0|  26|\n",
            "|f233cb41-6f33-4b0...|2021-07-18|      2016|437375|       4|        3|       1704|   11721|     2|         0|  34|\n",
            "|c797ca12-52cd-4b1...|2019-06-08|      2015|288650|       2|        3|       2100|   10419|     2|         0|   7|\n",
            "|0cfe57f3-28c2-472...|2019-10-04|      2015|308313|       3|        3|       1960|    9453|     2|         0|   2|\n",
            "|4566cd2a-ac6e-435...|2019-07-15|      2016|177541|       3|        3|       2130|   10517|     2|         0|  25|\n",
            "+--------------------+----------+----------+------+--------+---------+-----------+--------+------+----------+----+\n",
            "only showing top 20 rows\n",
            "\n"
          ]
        }
      ],
      "source": [
        "# 2. Create a temporary view of the DataFrame.\n",
        "spark.sparkContext.addFile(url)\n",
        "df = spark.read.csv(SparkFiles.get(\"home_sales_revised.csv\"), sep=\",\", header=True)\n",
        "df.show()\n"
      ]
    },
    {
      "cell_type": "code",
      "execution_count": 5,
      "metadata": {
        "id": "L6fkwOeOmqvq",
        "colab": {
          "base_uri": "https://localhost:8080/"
        },
        "outputId": "7487af40-4116-4d71-ae63-0ee494f7c63d"
      },
      "outputs": [
        {
          "output_type": "stream",
          "name": "stdout",
          "text": [
            "+----+------------------+-----------------+\n",
            "|year|        avg(price)|avg_price_rounded|\n",
            "+----+------------------+-----------------+\n",
            "|2022| 296363.8845050215|        296363.88|\n",
            "|2019| 300263.6955128205|         300263.7|\n",
            "|2020|298353.78003169573|        298353.78|\n",
            "|2021|   301819.44398864|        301819.44|\n",
            "+----+------------------+-----------------+\n",
            "\n"
          ]
        }
      ],
      "source": [
        "# 3. What is the average price for a four bedroom house sold per year, rounded to two decimal places?\n",
        "\n",
        "from pyspark.sql.functions import year, col, round\n",
        "\n",
        "# Step 1: Extract the year from the date column\n",
        "df = df.withColumn(\"year\", year(col(\"date\")))\n",
        "\n",
        "# Step 2: Filter the DataFrame to include only entries where bedrooms equals four\n",
        "four_bedroom_df = df.filter(col(\"bedrooms\") == 4)\n",
        "\n",
        "# Step 3: Ensure \"price\" column is cast to a numeric type\n",
        "four_bedroom_df = four_bedroom_df.withColumn(\"price\", four_bedroom_df[\"price\"].cast(\"float\"))\n",
        "\n",
        "# Step 4: Group the data by the year\n",
        "grouped_df = four_bedroom_df.groupBy(\"year\")\n",
        "\n",
        "# Step 5: Calculate the average price for each year\n",
        "average_price_df = grouped_df.avg(\"price\")\n",
        "\n",
        "# Step 6: Round the average price to two decimal places\n",
        "result = average_price_df.withColumn(\"avg_price_rounded\", round(\"avg(price)\", 2))\n",
        "\n",
        "# Show the result\n",
        "result.show()"
      ]
    },
    {
      "cell_type": "code",
      "execution_count": 6,
      "metadata": {
        "id": "l8p_tUS8h8it",
        "colab": {
          "base_uri": "https://localhost:8080/"
        },
        "outputId": "0d86c37d-0cfb-4b71-c754-0dc4773d0784"
      },
      "outputs": [
        {
          "output_type": "stream",
          "name": "stdout",
          "text": [
            "+----------+------------------+-----------------+\n",
            "|date_built|        avg(price)|avg_price_rounded|\n",
            "+----------+------------------+-----------------+\n",
            "|      2016|  290555.073964497|        290555.07|\n",
            "|      2012| 293683.1872074883|        293683.19|\n",
            "|      2017| 292676.7887740029|        292676.79|\n",
            "|      2014| 290852.2661870504|        290852.27|\n",
            "|      2013|295962.27145085804|        295962.27|\n",
            "|      2011|291117.46706586826|        291117.47|\n",
            "|      2015| 288770.2966101695|         288770.3|\n",
            "|      2010|  292859.615942029|        292859.62|\n",
            "+----------+------------------+-----------------+\n",
            "\n"
          ]
        }
      ],
      "source": [
        "# 4. What is the average price of a home for each year the home was built,\n",
        "# that have 3 bedrooms and 3 bathrooms, rounded to two decimal places?\n",
        "from pyspark.sql.functions import col, round\n",
        "\n",
        "# Step 1: Filter the DataFrame to include only entries where bedrooms equals 3 and bathrooms equals 3\n",
        "three_bedroom_three_bathroom_df = df.filter((col(\"bedrooms\") == 3) & (col(\"bathrooms\") == 3))\n",
        "\n",
        "# Step 2: Ensure \"price\" column is cast to a numeric type\n",
        "three_bedroom_three_bathroom_df = three_bedroom_three_bathroom_df.withColumn(\"price\", three_bedroom_three_bathroom_df[\"price\"].cast(\"float\"))\n",
        "\n",
        "# Step 3: Group the data by the year the home was built\n",
        "grouped_df = three_bedroom_three_bathroom_df.groupBy(\"date_built\")\n",
        "\n",
        "# Step 4: Calculate the average price for each year\n",
        "average_price_df = grouped_df.avg(\"price\")\n",
        "\n",
        "# Step 5: Round the average price to two decimal places\n",
        "result = average_price_df.withColumn(\"avg_price_rounded\", round(\"avg(price)\", 2))\n",
        "\n",
        "# Show the result\n",
        "result.show()"
      ]
    },
    {
      "cell_type": "code",
      "execution_count": 7,
      "metadata": {
        "id": "Y-Eytz64liDU",
        "colab": {
          "base_uri": "https://localhost:8080/"
        },
        "outputId": "2d328aa6-2ca3-4c83-ac87-15f7e612d879"
      },
      "outputs": [
        {
          "output_type": "stream",
          "name": "stdout",
          "text": [
            "+----------+------------------+-----------------+\n",
            "|date_built|        avg(price)|avg_price_rounded|\n",
            "+----------+------------------+-----------------+\n",
            "|      2016| 293965.1046511628|         293965.1|\n",
            "|      2012|307539.97402597405|        307539.97|\n",
            "|      2017|280317.57692307694|        280317.58|\n",
            "|      2014| 298264.7183908046|        298264.72|\n",
            "|      2013|      303676.79375|        303676.79|\n",
            "|      2011| 276553.8128654971|        276553.81|\n",
            "|      2015| 297609.9679144385|        297609.97|\n",
            "|      2010| 285010.2215909091|        285010.22|\n",
            "+----------+------------------+-----------------+\n",
            "\n"
          ]
        }
      ],
      "source": [
        "# 5. What is the average price of a home for each year the home was built,\n",
        "# that have 3 bedrooms, 3 bathrooms, with two floors,\n",
        "# and are greater than or equal to 2,000 square feet, rounded to two decimal places?\n",
        "from pyspark.sql.functions import col, round\n",
        "\n",
        "# Step 1: Filter the DataFrame to include only entries meeting the specified criteria\n",
        "filtered_df = df.filter((col(\"bedrooms\") == 3) &\n",
        "                        (col(\"bathrooms\") == 3) &\n",
        "                        (col(\"floors\") == 2) &\n",
        "                        (col(\"sqft_living\") >= 2000))\n",
        "\n",
        "# Step 2: Ensure \"price\" column is cast to a numeric type\n",
        "filtered_df = filtered_df.withColumn(\"price\", filtered_df[\"price\"].cast(\"float\"))\n",
        "\n",
        "# Step 3: Group the data by the year the home was built\n",
        "grouped_df = filtered_df.groupBy(\"date_built\")\n",
        "\n",
        "# Step 4: Calculate the average price for each year\n",
        "average_price_df = grouped_df.avg(\"price\")\n",
        "\n",
        "# Step 5: Round the average price to two decimal places\n",
        "result = average_price_df.withColumn(\"avg_price_rounded\", round(\"avg(price)\", 2))\n",
        "\n",
        "# Show the result\n",
        "result.show()\n"
      ]
    },
    {
      "cell_type": "code",
      "execution_count": 8,
      "metadata": {
        "colab": {
          "base_uri": "https://localhost:8080/"
        },
        "id": "GUrfgOX1pCRd",
        "outputId": "e77374f9-ffc9-4eab-c0bb-2051d56f162f"
      },
      "outputs": [
        {
          "output_type": "stream",
          "name": "stdout",
          "text": [
            "+----+----------+\n",
            "|view| avg_price|\n",
            "+----+----------+\n",
            "|  99|1061201.42|\n",
            "|  98|1053739.33|\n",
            "|  97|1129040.15|\n",
            "|  96|1017815.92|\n",
            "|  95| 1054325.6|\n",
            "|  94| 1033536.2|\n",
            "|  93|1026006.06|\n",
            "|  92| 970402.55|\n",
            "|  91|1137372.73|\n",
            "|  90|1062654.16|\n",
            "|  89|1107839.15|\n",
            "|  88|1031719.35|\n",
            "|  87| 1072285.2|\n",
            "|  86|1070444.25|\n",
            "|  85|1056336.74|\n",
            "|  84|1117233.13|\n",
            "|  83|1033965.93|\n",
            "|  82| 1063498.0|\n",
            "|  81|1053472.79|\n",
            "|  80| 991767.38|\n",
            "+----+----------+\n",
            "only showing top 20 rows\n",
            "\n",
            "Runtime for the query: 1.6537797451019287 seconds\n",
            "--- 8.249282836914062e-05 seconds ---\n"
          ]
        }
      ],
      "source": [
        "# 6. What is the average price of a home per \"view\" rating, rounded to two decimal places,\n",
        "# having an average home price greater than or equal to $350,000? Order by descending view rating.\n",
        "# Although this is a small dataset, determine the run time for this query.\n",
        "from pyspark.sql.functions import round, avg\n",
        "\n",
        "# Step 1: Calculate the average price of a home per \"view\" rating\n",
        "average_price_per_view_df = df.groupBy(\"view\").agg(round(avg(\"price\"), 2).alias(\"avg_price\"))\n",
        "\n",
        "# Step 2: Filter the results to include only those with an average home price greater than or equal to $350,000\n",
        "filtered_df = average_price_per_view_df.filter(col(\"avg_price\") >= 350000)\n",
        "\n",
        "# Step 3: Order the results by descending view rating\n",
        "result = filtered_df.orderBy(\"view\", ascending=False)\n",
        "\n",
        "# Show the result\n",
        "result.show()\n",
        "\n",
        "# Step 4: Determine the runtime for this query\n",
        "start_time = time.time()\n",
        "\n",
        "# Perform the query\n",
        "result.collect()\n",
        "\n",
        "end_time = time.time()\n",
        "runtime = end_time - start_time\n",
        "print(\"Runtime for the query:\", runtime, \"seconds\")\n",
        "start_time = time.time()\n",
        "\n",
        "\n",
        "\n",
        "print(\"--- %s seconds ---\" % (time.time() - start_time))"
      ]
    },
    {
      "cell_type": "code",
      "execution_count": 9,
      "metadata": {
        "id": "KAhk3ZD2tFy8",
        "colab": {
          "base_uri": "https://localhost:8080/"
        },
        "outputId": "70cc9f4c-6168-43e9-bed3-91ab2a03d109"
      },
      "outputs": [
        {
          "output_type": "execute_result",
          "data": {
            "text/plain": [
              "DataFrame[id: string, date: string, date_built: string, price: string, bedrooms: string, bathrooms: string, sqft_living: string, sqft_lot: string, floors: string, waterfront: string, view: string, year: int]"
            ]
          },
          "metadata": {},
          "execution_count": 9
        }
      ],
      "source": [
        "# 7. Cache the the temporary table home_sales.\n",
        "# Cache the DataFrame\n",
        "df.cache()"
      ]
    },
    {
      "cell_type": "code",
      "execution_count": 10,
      "metadata": {
        "id": "4opVhbvxtL-i",
        "colab": {
          "base_uri": "https://localhost:8080/"
        },
        "outputId": "b1320bf6-2d92-4e04-fd57-657b2c654799"
      },
      "outputs": [
        {
          "output_type": "stream",
          "name": "stdout",
          "text": [
            "The DataFrame representing the temporary table home_sales is cached.\n"
          ]
        }
      ],
      "source": [
        "# 8. Check if the table is cached.\n",
        "if df.is_cached:\n",
        "    print(\"The DataFrame representing the temporary table home_sales is cached.\")\n",
        "else:\n",
        "    print(\"The DataFrame representing the temporary table home_sales is not cached.\")"
      ]
    },
    {
      "cell_type": "code",
      "execution_count": 11,
      "metadata": {
        "colab": {
          "base_uri": "https://localhost:8080/"
        },
        "id": "5GnL46lwTSEk",
        "outputId": "367f7706-c88b-415d-8c6a-cc2d0d68684b"
      },
      "outputs": [
        {
          "output_type": "stream",
          "name": "stdout",
          "text": [
            "+----+----------+\n",
            "|view| avg_price|\n",
            "+----+----------+\n",
            "|  99|1061201.42|\n",
            "|  98|1053739.33|\n",
            "|  97|1129040.15|\n",
            "|  96|1017815.92|\n",
            "|  95| 1054325.6|\n",
            "|  94| 1033536.2|\n",
            "|  93|1026006.06|\n",
            "|  92| 970402.55|\n",
            "|  91|1137372.73|\n",
            "|  90|1062654.16|\n",
            "|  89|1107839.15|\n",
            "|  88|1031719.35|\n",
            "|  87| 1072285.2|\n",
            "|  86|1070444.25|\n",
            "|  85|1056336.74|\n",
            "|  84|1117233.13|\n",
            "|  83|1033965.93|\n",
            "|  82| 1063498.0|\n",
            "|  81|1053472.79|\n",
            "|  80| 991767.38|\n",
            "+----+----------+\n",
            "only showing top 20 rows\n",
            "\n",
            "Runtime for the query using cached data: 0.7243607044219971 seconds\n",
            "--- 6.031990051269531e-05 seconds ---\n"
          ]
        }
      ],
      "source": [
        "# 9. Using the cached data, run the last query above, that calculates\n",
        "# the average price of a home per \"view\" rating, rounded to two decimal places,\n",
        "# having an average home price greater than or equal to $350,000.\n",
        "# Determine the runtime and compare it to the uncached runtime.\n",
        "\n",
        "from pyspark.sql.functions import round, avg\n",
        "import time\n",
        "\n",
        "# Step 1: Calculate the average price of a home per \"view\" rating\n",
        "average_price_per_view_df = df.groupBy(\"view\").agg(round(avg(\"price\"), 2).alias(\"avg_price\"))\n",
        "\n",
        "# Step 2: Filter the results to include only those with an average home price greater than or equal to $350,000\n",
        "filtered_df = average_price_per_view_df.filter(col(\"avg_price\") >= 350000)\n",
        "\n",
        "# Step 3: Order the results by descending view rating\n",
        "result_cached = filtered_df.orderBy(\"view\", ascending=False)\n",
        "\n",
        "# Show the result\n",
        "result_cached.show()\n",
        "\n",
        "# Step 4: Determine the runtime for this query using cached data\n",
        "start_time_cached = time.time()\n",
        "\n",
        "# Perform the query\n",
        "result_cached.collect()\n",
        "\n",
        "end_time_cached = time.time()\n",
        "runtime_cached = end_time_cached - start_time_cached\n",
        "print(\"Runtime for the query using cached data:\", runtime_cached, \"seconds\")\n",
        "\n",
        "start_time = time.time()\n",
        "\n",
        "\n",
        "\n",
        "print(\"--- %s seconds ---\" % (time.time() - start_time))\n"
      ]
    },
    {
      "cell_type": "code",
      "execution_count": 13,
      "metadata": {
        "id": "Qm12WN9isHBR"
      },
      "outputs": [],
      "source": [
        "# 10. Partition by the \"date_built\" field on the formatted parquet home sales data\n",
        "df.write.partitionBy(\"date_built\").mode(\"overwrite\").parquet(\"partitioned_home_sales.parquet\")\n"
      ]
    },
    {
      "cell_type": "code",
      "execution_count": 14,
      "metadata": {
        "id": "AZ7BgY61sRqY",
        "colab": {
          "base_uri": "https://localhost:8080/"
        },
        "outputId": "24e1ecd8-16f0-4200-a619-f33f3ab65b01"
      },
      "outputs": [
        {
          "output_type": "stream",
          "name": "stdout",
          "text": [
            "root\n",
            " |-- id: string (nullable = true)\n",
            " |-- date: string (nullable = true)\n",
            " |-- price: string (nullable = true)\n",
            " |-- bedrooms: string (nullable = true)\n",
            " |-- bathrooms: string (nullable = true)\n",
            " |-- sqft_living: string (nullable = true)\n",
            " |-- sqft_lot: string (nullable = true)\n",
            " |-- floors: string (nullable = true)\n",
            " |-- waterfront: string (nullable = true)\n",
            " |-- view: string (nullable = true)\n",
            " |-- year: integer (nullable = true)\n",
            " |-- date_built: integer (nullable = true)\n",
            "\n",
            "+--------------------+----------+------+--------+---------+-----------+--------+------+----------+----+----+----------+\n",
            "|                  id|      date| price|bedrooms|bathrooms|sqft_living|sqft_lot|floors|waterfront|view|year|date_built|\n",
            "+--------------------+----------+------+--------+---------+-----------+--------+------+----------+----+----+----------+\n",
            "|2ed8d509-7372-46d...|2021-08-06|258710|       3|        3|       1918|    9666|     1|         0|  25|2021|      2015|\n",
            "|941bad30-eb49-4a7...|2020-05-09|229896|       3|        3|       2197|    8641|     1|         0|   3|2020|      2015|\n",
            "|c797ca12-52cd-4b1...|2019-06-08|288650|       2|        3|       2100|   10419|     2|         0|   7|2019|      2015|\n",
            "|0cfe57f3-28c2-472...|2019-10-04|308313|       3|        3|       1960|    9453|     2|         0|   2|2019|      2015|\n",
            "|d715f295-2fbf-4e9...|2021-05-17|391574|       3|        2|       1635|    8040|     2|         0|  10|2021|      2015|\n",
            "|a18515a2-86f3-46b...|2022-02-18|419543|       3|        2|       1642|   12826|     2|         0|  24|2022|      2015|\n",
            "|98f6a9ad-8870-474...|2022-05-07|136752|       2|        3|       1701|   10771|     2|         0|   5|2022|      2015|\n",
            "|7ac67498-b6f3-403...|2021-05-12|349318|       4|        3|       2417|   11304|     2|         0|  37|2021|      2015|\n",
            "|c9bfdb1c-2499-4e3...|2021-12-07|268874|       2|        2|       1537|   12177|     1|         0|  10|2021|      2015|\n",
            "|34c31a34-220d-469...|2019-02-06|409011|       3|        3|       2356|   10507|     1|         0|   1|2019|      2015|\n",
            "|be0ccb95-415d-411...|2020-05-15|425154|       4|        3|       2120|   14229|     2|         0|   4|2020|      2015|\n",
            "|e9031a86-1294-444...|2021-10-09|222322|       4|        3|       1928|   10510|     1|         0|  38|2021|      2015|\n",
            "|e6d7c2a7-596e-4ec...|2019-03-15|131201|       4|        3|       1633|   14655|     1|         0|  22|2019|      2015|\n",
            "|6683714b-3df7-454...|2022-02-01|333403|       4|        2|       2059|    9793|     2|         0|   4|2022|      2015|\n",
            "|00fc996f-508c-430...|2021-07-15|373139|       3|        3|       1763|   11363|     1|         0|  39|2021|      2015|\n",
            "|3d5545f8-bd3b-476...|2020-09-19|797862|       4|        6|       3494|   10385|     2|         0|  90|2020|      2015|\n",
            "|ec6d357c-2435-43e...|2019-05-28|401792|       3|        2|       1627|   10765|     1|         0|  50|2019|      2015|\n",
            "|c2be38fb-814a-403...|2020-03-20|352237|       3|        3|       2485|   10954|     2|         0|   6|2020|      2015|\n",
            "|9570de1f-5a74-45b...|2021-11-29|298453|       3|        2|       2222|   10634|     1|         0|   6|2021|      2015|\n",
            "|1baeff4f-fc00-489...|2020-12-17|152775|       3|        2|       1623|   13851|     1|         0|  41|2020|      2015|\n",
            "+--------------------+----------+------+--------+---------+-----------+--------+------+----------+----+----+----------+\n",
            "only showing top 20 rows\n",
            "\n"
          ]
        }
      ],
      "source": [
        "# 11. Read the parquet formatted data.\n",
        "# Read the partitioned Parquet data\n",
        "partitioned_df = spark.read.parquet(\"partitioned_home_sales.parquet\")\n",
        "\n",
        "# Show the schema of the DataFrame\n",
        "partitioned_df.printSchema()\n",
        "\n",
        "# Show the first few rows of the DataFrame\n",
        "partitioned_df.show()"
      ]
    },
    {
      "cell_type": "code",
      "execution_count": 15,
      "metadata": {
        "id": "J6MJkHfvVcvh",
        "colab": {
          "base_uri": "https://localhost:8080/"
        },
        "outputId": "fc47285a-0aa6-40d0-cbcd-c00f1d1f73c3"
      },
      "outputs": [
        {
          "output_type": "stream",
          "name": "stdout",
          "text": [
            "Temporary view 'partitioned_home_sales_view' created successfully.\n"
          ]
        }
      ],
      "source": [
        "# 12. Create a temporary table for the parquet data.\n",
        "# Register the DataFrame as a temporary table using SQLContext\n",
        "try:\n",
        "    partitioned_df.createOrReplaceTempView(\"partitioned_home_sales_view\")\n",
        "    print(\"Temporary view 'partitioned_home_sales_view' created successfully.\")\n",
        "except Exception as e:\n",
        "    print(\"Failed to create temporary view. Error:\", str(e))"
      ]
    },
    {
      "cell_type": "code",
      "execution_count": 16,
      "metadata": {
        "colab": {
          "base_uri": "https://localhost:8080/"
        },
        "id": "G_Vhb52rU1Sn",
        "outputId": "6d21e824-0f15-44fe-bbcf-b64943c48f85"
      },
      "outputs": [
        {
          "output_type": "stream",
          "name": "stdout",
          "text": [
            "+----+----------+\n",
            "|view| avg_price|\n",
            "+----+----------+\n",
            "|  99|1061201.42|\n",
            "|  98|1053739.33|\n",
            "|  97|1129040.15|\n",
            "|  96|1017815.92|\n",
            "|  95| 1054325.6|\n",
            "|  94| 1033536.2|\n",
            "|  93|1026006.06|\n",
            "|  92| 970402.55|\n",
            "|  91|1137372.73|\n",
            "|  90|1062654.16|\n",
            "|  89|1107839.15|\n",
            "|  88|1031719.35|\n",
            "|  87| 1072285.2|\n",
            "|  86|1070444.25|\n",
            "|  85|1056336.74|\n",
            "|  84|1117233.13|\n",
            "|  83|1033965.93|\n",
            "|  82| 1063498.0|\n",
            "|  81|1053472.79|\n",
            "|  80| 991767.38|\n",
            "+----+----------+\n",
            "only showing top 20 rows\n",
            "\n",
            "Runtime for the query using Parquet DataFrame: 1.1259207725524902 seconds\n",
            "Cached runtime: 0.7243607044219971 seconds\n",
            "--- 9.608268737792969e-05 seconds ---\n"
          ]
        }
      ],
      "source": [
        "# 13. Using the parquet DataFrame, run the last query above, that calculates\n",
        "# the average price of a home per \"view\" rating, rounded to two decimal places,\n",
        "# having an average home price greater than or equal to $350,000.\n",
        "# Determine the runtime and compare it to the cached runtime.\n",
        "\n",
        "from pyspark.sql.functions import round, avg\n",
        "import time\n",
        "\n",
        "# Step 1: Calculate the average price of a home per \"view\" rating\n",
        "average_price_per_view_df = partitioned_df.groupBy(\"view\").agg(round(avg(\"price\"), 2).alias(\"avg_price\"))\n",
        "\n",
        "# Step 2: Filter the results to include only those with an average home price greater than or equal to $350,000\n",
        "filtered_df = average_price_per_view_df.filter(col(\"avg_price\") >= 350000)\n",
        "\n",
        "# Step 3: Order the results by descending view rating\n",
        "result_parquet = filtered_df.orderBy(\"view\", ascending=False)\n",
        "\n",
        "# Show the result\n",
        "result_parquet.show()\n",
        "\n",
        "# Step 4: Determine the runtime for this query using Parquet DataFrame\n",
        "start_time_parquet = time.time()\n",
        "\n",
        "# Perform the query\n",
        "result_parquet.collect()\n",
        "\n",
        "end_time_parquet = time.time()\n",
        "runtime_parquet = end_time_parquet - start_time_parquet\n",
        "print(\"Runtime for the query using Parquet DataFrame:\", runtime_parquet, \"seconds\")\n",
        "\n",
        "# Compare with cached runtime\n",
        "print(\"Cached runtime:\", runtime_cached, \"seconds\")\n",
        "start_time = time.time()\n",
        "\n",
        "\n",
        "\n",
        "print(\"--- %s seconds ---\" % (time.time() - start_time))"
      ]
    },
    {
      "cell_type": "code",
      "execution_count": 17,
      "metadata": {
        "id": "hjjYzQGjtbq8",
        "colab": {
          "base_uri": "https://localhost:8080/"
        },
        "outputId": "33cd0010-d449-4dee-88d5-bb6decd765f1"
      },
      "outputs": [
        {
          "output_type": "execute_result",
          "data": {
            "text/plain": [
              "DataFrame[id: string, date: string, date_built: string, price: string, bedrooms: string, bathrooms: string, sqft_living: string, sqft_lot: string, floors: string, waterfront: string, view: string, year: int]"
            ]
          },
          "metadata": {},
          "execution_count": 17
        }
      ],
      "source": [
        "# 14. Uncache the home_sales temporary table.\n",
        "df.unpersist()"
      ]
    },
    {
      "cell_type": "code",
      "execution_count": 18,
      "metadata": {
        "id": "Sy9NBvO7tlmm",
        "colab": {
          "base_uri": "https://localhost:8080/"
        },
        "outputId": "a802694e-9443-44d9-b568-8e73643aab32"
      },
      "outputs": [
        {
          "output_type": "stream",
          "name": "stdout",
          "text": [
            "The DataFrame representing the temporary table home_sales is no longer cached.\n"
          ]
        }
      ],
      "source": [
        "# 15. Check if the home_sales is no longer cached\n",
        "\n",
        "if not df.is_cached:\n",
        "    print(\"The DataFrame representing the temporary table home_sales is no longer cached.\")\n",
        "else:\n",
        "    print(\"The DataFrame representing the temporary table home_sales is still cached.\")"
      ]
    },
    {
      "cell_type": "code",
      "execution_count": null,
      "metadata": {
        "id": "Si-BNruRUGK3"
      },
      "outputs": [],
      "source": []
    }
  ],
  "metadata": {
    "colab": {
      "provenance": [],
      "include_colab_link": true
    },
    "gpuClass": "standard",
    "kernelspec": {
      "display_name": "Python 3 (ipykernel)",
      "language": "python",
      "name": "python3"
    },
    "language_info": {
      "codemirror_mode": {
        "name": "ipython",
        "version": 3
      },
      "file_extension": ".py",
      "mimetype": "text/x-python",
      "name": "python",
      "nbconvert_exporter": "python",
      "pygments_lexer": "ipython3",
      "version": "3.10.4"
    },
    "nteract": {
      "version": "0.28.0"
    }
  },
  "nbformat": 4,
  "nbformat_minor": 0
}